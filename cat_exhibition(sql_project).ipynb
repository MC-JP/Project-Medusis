{
  "nbformat": 4,
  "nbformat_minor": 0,
  "metadata": {
    "kernelspec": {
      "display_name": "Python 3",
      "language": "python",
      "name": "python3"
    },
    "language_info": {
      "codemirror_mode": {
        "name": "ipython",
        "version": 3
      },
      "file_extension": ".py",
      "mimetype": "text/x-python",
      "name": "python",
      "nbconvert_exporter": "python",
      "pygments_lexer": "ipython3",
      "version": "3.7.3"
    },
    "colab": {
      "name": "cat_expo (1).ipynb",
      "provenance": [],
      "include_colab_link": true
    }
  },
  "cells": [
    {
      "cell_type": "markdown",
      "metadata": {
        "id": "view-in-github",
        "colab_type": "text"
      },
      "source": [
        "<a href=\"https://colab.research.google.com/github/MC-JP/Project-Medusis/blob/celek/cat_exhibition(sql_project).ipynb\" target=\"_parent\"><img src=\"https://colab.research.google.com/assets/colab-badge.svg\" alt=\"Open In Colab\"/></a>"
      ]
    },
    {
      "cell_type": "code",
      "metadata": {
        "id": "o-12ao-cDZQd",
        "colab_type": "code",
        "colab": {}
      },
      "source": [
        "import sqlite3\n",
        "conn=sqlite3.connect('cat_exhibition.db')\n",
        "C = conn.cursor()"
      ],
      "execution_count": 0,
      "outputs": []
    },
    {
      "cell_type": "code",
      "metadata": {
        "id": "xQnFISeWDZQl",
        "colab_type": "code",
        "colab": {
          "base_uri": "https://localhost:8080/",
          "height": 34
        },
        "outputId": "f7112790-5fc2-40df-f8e7-5a72d9720a2b"
      },
      "source": [
        "C.execute(\"\"\"CREATE TABLE cat(\n",
        "name text,\n",
        "breed text,\n",
        "age integer)\n",
        "\"\"\")"
      ],
      "execution_count": 2,
      "outputs": [
        {
          "output_type": "execute_result",
          "data": {
            "text/plain": [
              "<sqlite3.Cursor at 0x7f8ef7c36880>"
            ]
          },
          "metadata": {
            "tags": []
          },
          "execution_count": 2
        }
      ]
    },
    {
      "cell_type": "code",
      "metadata": {
        "id": "I-sdGY5WDZQs",
        "colab_type": "code",
        "colab": {}
      },
      "source": [
        "def insert_cat():\n",
        "    a=input(\"cat's name:\")\n",
        "    b=input(\"cat's breed:\")\n",
        "    c=input(\"cat's age:\")\n",
        "    with conn:\n",
        "        C.execute(\"INSERT INTO cat VALUES(:name, :breed, :age)\",{'name':a,'breed': b, 'age': c})\n",
        "\n",
        "def show_all_cats():\n",
        "    with conn:\n",
        "        C.execute(\"SELECT * FROM cat\")\n",
        "        return C.fetchall()\n",
        "\n",
        "\n",
        "def show_cats_by_name():\n",
        "    a=input(\"provide a name\")\n",
        "    with conn:\n",
        "        C.execute(\"SELECT * FROM cat WHERE name=:name\",{'name':a})\n",
        "        cats_list =  C.fetchall()\n",
        "    if cats_list:\n",
        "        print(cats_list)\n",
        "    else:\n",
        "        print(\"no cats with such name registered for the exhibition\")\n",
        "        y=input(\"Do you want to try again? (yes/no)\")\n",
        "        z=True\n",
        "        while z:\n",
        "            if y==\"yes\":\n",
        "                delete_cat()\n",
        "                z=None\n",
        "            elif y==\"no\":\n",
        "                z=None\n",
        "            else:\n",
        "                y=input(\"Do you want to try again? (yes/no)\")\n",
        "\n",
        "def delete_cat():\n",
        "    print(\"give cat details to confirm the operation\")\n",
        "    a=input(\"cat's name:\")\n",
        "    b=input(\"cat's breed:\")\n",
        "    c=input(\"cat's age:\")\n",
        "    C.execute(\"SELECT * FROM cat WHERE name=:name AND breed = :breed AND age= :age\",\n",
        "                  {'name': a , 'breed': b, 'age':c})\n",
        "    x = C.fetchall()\n",
        "    if x:\n",
        "        with conn: \n",
        "            C.execute(\"DELETE FROM cat WHERE name = :name AND breed = :breed AND age= :age\",\n",
        "                      {'name': a , 'breed': b, 'age':c})\n",
        "        print(\"cat removed from the database \")\n",
        "    else:\n",
        "        print(\"no such cat registered for the exposition\")\n",
        "        y=input(\"Do you want to try again? (yes/no)\")\n",
        "        z=True\n",
        "        while z:\n",
        "            if y==\"yes\":\n",
        "                delete_cat()\n",
        "                z=None\n",
        "            elif y==\"no\":\n",
        "                z=None\n",
        "            else:\n",
        "                y=input(\"Do you want to try again? (yes/no)\")\n",
        "\n",
        "            "
      ],
      "execution_count": 0,
      "outputs": []
    },
    {
      "cell_type": "code",
      "metadata": {
        "id": "xLLD3yPXDZQw",
        "colab_type": "code",
        "colab": {
          "base_uri": "https://localhost:8080/",
          "height": 136
        },
        "outputId": "9258940d-1d6c-4668-c2c5-9364d32cd837"
      },
      "source": [
        "z=True\n",
        "while z: \n",
        "    print(\"\"\"What would you like to do?\n",
        "    1.Add a new cat\n",
        "    2.Remove a cat\n",
        "    3.Show a full list of cats\n",
        "    4.Show cats by name\n",
        "    5.quit\"\"\")\n",
        "    \n",
        "    q=input(\"Press a number: \")\n",
        "    try:\n",
        "        q=int(q)\n",
        "    except ValueError:\n",
        "        pass\n",
        "    if q==1:\n",
        "        insert_cat()\n",
        "    elif q==2:\n",
        "        delete_cat()\n",
        "    elif q==3:\n",
        "        for i in show_all_cats():\n",
        "            print(i,end=\"\\n\")\n",
        "    elif q == 4:\n",
        "        for i in show_cats_by_name():\n",
        "            print(i,end=\"\\n\")\n",
        "    elif q == 5:\n",
        "        z=None\n",
        "    else: \n",
        "        print(\"please choose a number between 1 and 5\")"
      ],
      "execution_count": 5,
      "outputs": [
        {
          "output_type": "stream",
          "text": [
            "What would you like to do?\n",
            "    1.Add a new cat\n",
            "    2.Remove a cat\n",
            "    3.Show a full list of cats\n",
            "    4.Show cats by name\n",
            "    5.quit\n",
            "Press a number: 5\n"
          ],
          "name": "stdout"
        }
      ]
    },
    {
      "cell_type": "code",
      "metadata": {
        "id": "u2ClaMuSDZQ2",
        "colab_type": "code",
        "colab": {}
      },
      "source": [
        ""
      ],
      "execution_count": 0,
      "outputs": []
    }
  ]
}